{
 "cells": [
  {
   "cell_type": "code",
   "execution_count": null,
   "id": "b1b4b5a0",
   "metadata": {},
   "outputs": [],
   "source": [
    "# 2.11.1 Nombres de Friedman\n",
    "print(7+3**6) # oui 736\n",
    "print((3+4)**3) # oui 343\n",
    "print(3**6-5) # non 724\n",
    "print((1+2**8)*5) # oui 1285\n",
    "print((2+1**8)**7) # oui 2187"
   ]
  },
  {
   "cell_type": "code",
   "execution_count": null,
   "id": "1c40f9a4",
   "metadata": {},
   "outputs": [],
   "source": [
    "# 2.11.2 Prédire le résultat : opérations\n",
    "print((1+2)**3)  # 27\n",
    "print(\"Da\" * 4)  # \"DaDaDaDa\"\n",
    "#print(\"Da\" + 3)  # error peut pas concate un int sur un string\n",
    "print((\"Pa\"+\"La\") * 2)  # \"PaLaPaLa\"\n",
    "#print((\"Da\"*4) / 2)  #error peut pas divise un string\n",
    "print(5 / 2)  # 2.5\n",
    "print(5 // 2)  # 2\n",
    "print(5 % 2)  # 1"
   ]
  },
  {
   "cell_type": "code",
   "execution_count": null,
   "id": "6573a065",
   "metadata": {},
   "outputs": [],
   "source": [
    "# 2.11.3 Prédire le résultat : opérations et conversions de types\n",
    "print(str(4) * int(\"3\")) # 444\n",
    "print(int(\"3\") + float(\"3.2\")) # 6.2\n",
    "#print(str(3) * float(\"3.2\")) # error peut pas multiplier un string par un float\n",
    "print(str(3/4) * 2) # '0.750.75'"
   ]
  },
  {
   "cell_type": "code",
   "execution_count": 9,
   "id": "15291ef2",
   "metadata": {},
   "outputs": [
    {
     "data": {
      "text/plain": [
       "'AAAAAAAAAAAAAAAAAAAAGGGGGGGGGGGGGGGGGGGGGGGGGGGGGGGGGGGGGGGG'"
      ]
     },
     "execution_count": 9,
     "metadata": {},
     "output_type": "execute_result"
    }
   ],
   "source": [
    "# 3.6.2 Poly-A\n",
    "\"A\" * 20"
   ]
  },
  {
   "cell_type": "code",
   "execution_count": 11,
   "id": "f649388c",
   "metadata": {},
   "outputs": [
    {
     "data": {
      "text/plain": [
       "'AAAAAAAAAAAAAAAAAAAAGCGCGCGCGCGCGCGCGCGCGCGCGCGCGCGCGCGCGCGCGCGCGCGCGCGCGCGCGCGCGCGCGCGCGCGCGCGCGCGC'"
      ]
     },
     "execution_count": 11,
     "metadata": {},
     "output_type": "execute_result"
    }
   ],
   "source": [
    "# 3.6.3 Poly-A et poly-GC\n",
    "\"A\" * 20 + \"GC\" * 40"
   ]
  },
  {
   "cell_type": "code",
   "execution_count": 37,
   "id": "8e3880cb",
   "metadata": {
    "scrolled": true
   },
   "outputs": [
    {
     "data": {
      "text/plain": [
       "'salut 102 10.32'"
      ]
     },
     "execution_count": 37,
     "metadata": {},
     "output_type": "execute_result"
    }
   ],
   "source": [
    "# 3.6.4 Écriture formatée\n",
    "a = \"salut\"\n",
    "b = 102\n",
    "c = 10.318\n",
    "\n",
    "f'{a} {b} {c:.2f}'"
   ]
  },
  {
   "cell_type": "code",
   "execution_count": 35,
   "id": "fd2d02e1",
   "metadata": {
    "scrolled": true
   },
   "outputs": [
    {
     "name": "stdout",
     "output_type": "stream",
     "text": [
      "47.80405405405405\n",
      "Le pourcentage de GC est 48     %\n",
      "Le pourcentage de GC est 47.8   %\n",
      "Le pourcentage de GC est 47.80  %\n",
      "Le pourcentage de GC est 47.804 %\n"
     ]
    }
   ],
   "source": [
    "# 3.6.5 Écriture formatée 2\n",
    "perc_GC = ((4500 + 2575)/14800)*100\n",
    "\n",
    "print(perc_GC)\n",
    "\n",
    "print(f'Le pourcentage de GC est {perc_GC:.0f}     %')\n",
    "print(f'Le pourcentage de GC est {perc_GC:.1f}   %')\n",
    "print(f'Le pourcentage de GC est {perc_GC:.2f}  %')\n",
    "print(f'Le pourcentage de GC est {perc_GC:.3f} %')"
   ]
  }
 ],
 "metadata": {
  "kernelspec": {
   "display_name": "Python 3 (ipykernel)",
   "language": "python",
   "name": "python3"
  },
  "language_info": {
   "codemirror_mode": {
    "name": "ipython",
    "version": 3
   },
   "file_extension": ".py",
   "mimetype": "text/x-python",
   "name": "python",
   "nbconvert_exporter": "python",
   "pygments_lexer": "ipython3",
   "version": "3.11.5"
  }
 },
 "nbformat": 4,
 "nbformat_minor": 5
}
