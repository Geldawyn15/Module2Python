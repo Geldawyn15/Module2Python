{
 "cells": [
  {
   "cell_type": "code",
   "execution_count": null,
   "id": "3fdd96dd",
   "metadata": {},
   "outputs": [],
   "source": [
    "#Codez la fonction signe ici\n",
    "def signe(x):\n",
    "    \"\"\"retourne si un numero et positive negative ou zero\"\"\"\n",
    "    if x == 0:\n",
    "        return(0)\n",
    "    elif x > 0:\n",
    "        return(1)\n",
    "    elif x < 0:\n",
    "        return(-1)\n",
    "\n",
    "signe(0)\n",
    "signe(-15)\n",
    "signe (12)"
   ]
  },
  {
   "cell_type": "code",
   "execution_count": null,
   "id": "2a05c045",
   "metadata": {},
   "outputs": [],
   "source": [
    "def a_briser(total_bonbons,n_amis):\n",
    "    \"\"\"Retourne le nombre de bonbons restants après la distribution\n",
    "    de total_bonbons uniformément entre n_amis.\n",
    "    >>> a_briser(91,3)\n",
    "    1\n",
    "    \"\"\"\n",
    "    if total_bonbons > 1:\n",
    "        print(\"a distribuer\", total_bonbons, \"bonbons\")\n",
    "    else:\n",
    "        print(\"a distribuer\", total_bonbons, \"bonbon\")\n",
    "        \n",
    "    return total_bonbons % n_amis\n",
    "\n",
    "a_briser(91,3)\n",
    "a_briser(1,3)"
   ]
  },
  {
   "cell_type": "code",
   "execution_count": null,
   "id": "7cc7a134",
   "metadata": {},
   "outputs": [],
   "source": [
    "def pret_pour_meteo(avec_parapluie, pluie_intensite, avec_capuche, est_jour_de_travail):\n",
    "    # Ne modifiez pas ce code. Notre objectif est simplement de trouver le bug, pas de le corriger!\n",
    "    return avec_parapluie or pluie_intensite < 5 and avec_capuche or not (pluie_intensite > 0 and est_jour_de_travail)\n",
    "\n",
    "# Modifiez les valeurs de ces entrées afin qu'elles représentent un cas où pret_pour_meteo\n",
    "# renvoie la mauvaise réponse.\n",
    "avec_parapluie = False\n",
    "pluie_intensite = 0.0\n",
    "avec_capuche = False\n",
    "est_jour_de_travail = False\n",
    "\n",
    "# Vérifiez ce que la fonction retourne étant donné les valeurs actuelles des variables ci-dessus\n",
    "actuel = pret_pour_meteo(avec_parapluie, pluie_intensite, avec_capuche, est_jour_de_travail)\n",
    "print(actuel)\n",
    "\n",
    "#il faududra rajouter des paranthese autour de les conditions avec des ands pour les groupes ensemble"
   ]
  },
  {
   "cell_type": "code",
   "execution_count": null,
   "id": "115abfe3",
   "metadata": {},
   "outputs": [],
   "source": [
    "def is_negative(number):\n",
    "    if number < 0:\n",
    "        return True\n",
    "    else:\n",
    "        return False\n",
    "#le code simplifier\n",
    "def concise_is_negative(number):\n",
    "   return number < 0"
   ]
  },
  {
   "cell_type": "code",
   "execution_count": null,
   "id": "2c87f1f8",
   "metadata": {},
   "outputs": [],
   "source": [
    "def wants_all_toppings(ketchup, mustard, onion):\n",
    "    \"\"\"Indiquez si le client souhaite les 3 garnitures\n",
    "    \"\"\"\n",
    "    return ketchup and mustard and onion\n",
    "\n",
    "# Check your answer\n",
    "print(wants_all_toppings(True,True,True))\n",
    "print(wants_all_toppings(True,False,True))"
   ]
  },
  {
   "cell_type": "code",
   "execution_count": null,
   "id": "7a191ec8",
   "metadata": {},
   "outputs": [],
   "source": [
    "def exactly_one_sauce(ketchup, mustard, onion):\n",
    "    \"\"\"Indiquez si le client souhaite du ketchup ou de la moutarde, mais pas les deux.\n",
    "    (Vous connaissez peut-être cette opération sous le nom \"exclusif ou\")\n",
    "    \"\"\"\n",
    "    return (ketchup or mustard) and not (ketchup and mustard)\n",
    "\n",
    "# Check your answer\n",
    "print(exactly_one_sauce(True,True,True))\n",
    "print(exactly_one_sauce(True,False,True))\n",
    "print(exactly_one_sauce(False,True,False))"
   ]
  },
  {
   "cell_type": "code",
   "execution_count": null,
   "id": "69b20646",
   "metadata": {},
   "outputs": [],
   "source": [
    "def exactly_one_topping(ketchup, mustard, onion):\n",
    "    \"\"\"Indiquez si le client souhaite exactement l'une des trois garnitures disponibles\n",
    "    sur leur hot dog.\n",
    "    \"\"\"\n",
    "    return (ketchup + mustard + onion) == 1\n",
    "\n",
    "# Check your answer\n",
    "print(exactly_one_topping(True,True,True))\n",
    "print(exactly_one_topping(False,False,False))\n",
    "print(exactly_one_topping(False,True,False))\n",
    "print(exactly_one_topping(True,True,False))"
   ]
  },
  {
   "cell_type": "code",
   "execution_count": null,
   "id": "e304a359",
   "metadata": {},
   "outputs": [],
   "source": [
    "def should_hit(dealer_total, player_total, player_low_aces, player_high_aces):\n",
    "    \"\"\"Retourne True si le joueur doit \"hit\" (demander une autre carte) étant donné la partie en cours,\n",
    "    ou False si le joueur ne doit pas ajouter de carte.\n",
    "    Lors du calcul de la valeur totale d'une main, nous comptons les as comme \"élevés\" (avec la valeur 11) si cela\n",
    "    ne porte pas le total au-dessus de 21, sinon nous les comptons comme faibles (avec la valeur 1).\n",
    "    Par exemple, si la main du joueur est {A, A, A, 7}, nous la compterons comme 11 + 1 + 1 + 7,\n",
    "    et donc définir player_total = 20, player_low_aces = 2, player_high_aces = 1.\n",
    "    \"\"\"\n",
    "    if player_high_aces > 0:\n",
    "        if player_total <= 17:\n",
    "            return True  \n",
    "        elif player_total == 18 and dealer_total >= 9:\n",
    "            return True  \n",
    "    else:\n",
    "        if player_total <= 11 or (player_total == 12 and dealer_total >= 4 and dealer_total <= 6):\n",
    "            return True \n",
    "    \n",
    "    return False\n",
    "\n",
    "dealer_total = 18\n",
    "player_total = 14\n",
    "player_low_aces = 0\n",
    "player_high_aces = 1\n",
    "\n",
    "result = should_hit(dealer_total, player_total, player_low_aces, player_high_aces)\n",
    "print(result)"
   ]
  },
  {
   "cell_type": "code",
   "execution_count": null,
   "id": "b8d265d2",
   "metadata": {},
   "outputs": [],
   "source": [
    "def is_bissextile(annee):\n",
    "    \"\"\"Retourne True si une anne est bissextile.\n",
    "    \"\"\"\n",
    "\n",
    "    if annee.isnumeric():\n",
    "        annee = int(annee)\n",
    "        return (annee % 400 == 0) or (annee % 4 == 0 and annee % 100 != 0)\n",
    "    else:\n",
    "        annee = input(\"Saisissez que des numeros : \")\n",
    "        return is_bissextile(annee)\n",
    "    \n",
    "annee = input(\"Saisissez une année : \")\n",
    "\n",
    "print(is_bissextile(annee))"
   ]
  },
  {
   "cell_type": "code",
   "execution_count": null,
   "id": "7429bf4e",
   "metadata": {},
   "outputs": [],
   "source": [
    "#Recherche d'un nombre par dichotomie\n",
    "import random\n",
    "\n",
    "def number_guesser(min, max):\n",
    "    \"\"\"Asks questions about your number and returns how many questions it takes to guess your number\n",
    "    \"\"\"\n",
    "    con = \"\"\n",
    "    questions = 0\n",
    "    while con != \"=\":\n",
    "        questions += 1\n",
    "        ranum =  int(min) + (int(max) - int(min))/2\n",
    "        con = input(\"is your number biger smaller or equal to \"+ str(int(ranum))+\"? [+/-/=]\")\n",
    "        if con == \"+\":\n",
    "            min = ranum \n",
    "        elif con == \"-\":\n",
    "            max = ranum \n",
    "        elif con == \"=\":\n",
    "            return \"I found it in \"+ str(questions) + \" !\"\n",
    "\n",
    "min = 1\n",
    "maw = 100\n",
    "print(\"think of a number between 1 and 100\")\n",
    "\n",
    "print(number_guesser(min, max))"
   ]
  }
 ],
 "metadata": {
  "kernelspec": {
   "display_name": "Python 3 (ipykernel)",
   "language": "python",
   "name": "python3"
  },
  "language_info": {
   "codemirror_mode": {
    "name": "ipython",
    "version": 3
   },
   "file_extension": ".py",
   "mimetype": "text/x-python",
   "name": "python",
   "nbconvert_exporter": "python",
   "pygments_lexer": "ipython3",
   "version": "3.11.5"
  }
 },
 "nbformat": 4,
 "nbformat_minor": 5
}
