{
 "cells": [
  {
   "cell_type": "markdown",
   "id": "36367d88",
   "metadata": {},
   "source": [
    "### Step 1\n",
    "Pour commencer, dans un nouveau fichier Jupyter Notebook à votre nom, créer le premier \n",
    "dictionnaire vide client1.\n"
   ]
  },
  {
   "cell_type": "code",
   "execution_count": null,
   "id": "44e4f1db",
   "metadata": {},
   "outputs": [],
   "source": [
    "client1 = {}\n"
   ]
  },
  {
   "cell_type": "markdown",
   "id": "37930a55",
   "metadata": {},
   "source": [
    "### Step 2\n",
    "Récupérer les 4 données du client1 en utilisant une boucle, qu’il rentrera directement en console. \n",
    "Puis imprimer les données du premier client. N’oubliez pas le commentaire dans le bloc"
   ]
  },
  {
   "cell_type": "code",
   "execution_count": null,
   "id": "e7ef2f56",
   "metadata": {},
   "outputs": [],
   "source": [
    "# Step 2\n",
    "client1 = {}\n",
    "attributes = []\n",
    "#Boucle pour etablier les attributes\n",
    "for i in range(1, 5):\n",
    "    attributes.append(input(' Veuillez saisir l\\'attribut ' +str(i)+ ' : '))\n",
    "\n",
    "\n",
    "#Boucle pour recupere les attributes du client\n",
    "for i in attributes:\n",
    "    client1[i] = input('Quel est votre '+i+' ?: ')\n",
    "\n",
    "print('Bonjour '+ client1['Prenom']+' '+client1['Nom']+ ' \\''+client1['Sexe']+'\\' votre Solde est '+client1['Solde'])\n",
    "\n",
    "    "
   ]
  },
  {
   "cell_type": "markdown",
   "id": "b94a13a8",
   "metadata": {},
   "source": [
    "### Step 3\n",
    "Créer une liste de 12 autres dictionnaires (clients) qui possèdent les mêmes clés (attributs"
   ]
  },
  {
   "cell_type": "code",
   "execution_count": null,
   "id": "547dc911",
   "metadata": {},
   "outputs": [],
   "source": [
    "# Step 3\n",
    "clients = [{},{},{},{},{},{},{},{},{},{},{},{}]"
   ]
  },
  {
   "cell_type": "markdown",
   "id": "56e920c5",
   "metadata": {},
   "source": [
    "### Step 4\n",
    "Créer une boucle pour récupérer les données de tous les clients. Exécuter la pour entrer leurs \n",
    "données directement en console. N’oubliez pas les commentaires."
   ]
  },
  {
   "cell_type": "code",
   "execution_count": null,
   "id": "77730e7d",
   "metadata": {},
   "outputs": [],
   "source": [
    "# Step 4\n",
    "clients = [{},{},{},{},{},{},{},{},{},{},{},{}]\n",
    "attributes = []\n",
    "#Boucle pour etablier les attributes\n",
    "for i in range(1, 5):\n",
    "    attributes.append(input(' Veuillez saisir l\\'attribut ' +str(i)+ ' : '))\n",
    "\n",
    "#Boucle pour recupere les attributes du client\n",
    "for i in range(13):\n",
    "    for x in attributes:\n",
    "        clients[i][x] = (input('Quel est votre '+x+' ?: '))\n",
    "print(clients)"
   ]
  },
  {
   "cell_type": "markdown",
   "id": "2fd4776b",
   "metadata": {},
   "source": [
    "### Step 5\n",
    "Ecrire un bloc pour effectuer un retrait de 500 euros pour client4"
   ]
  },
  {
   "cell_type": "code",
   "execution_count": null,
   "id": "ff71dede",
   "metadata": {},
   "outputs": [],
   "source": [
    "#Step 5\n",
    "clients = [{},{},{},{},{},{},{},{},{},{},{},{}]\n",
    "attributes = []\n",
    "#Boucle pour etablier les attributes\n",
    "for i in range(1, 5):\n",
    "    attributes.append(input(' Veuillez saisir l\\'attribut ' +str(i)+ ' : '))\n",
    "\n",
    "#Boucle pour recupere les attributes du client\n",
    "for i in range(13):\n",
    "    for x in attributes:\n",
    "        clients[i][x] = (input('Quel est votre '+x+' ?: '))\n",
    "print(clients)\n",
    "\n",
    "#Bloc pour enleve 500 euros du client 4\n",
    "print(clients[3])\n",
    "clients[3]['Solde'] -= 500\n",
    "print(clients[3])"
   ]
  },
  {
   "cell_type": "markdown",
   "id": "2c574010",
   "metadata": {},
   "source": [
    "### Step 6\n",
    "Ecrire un bloc pour afficher le Solde total"
   ]
  },
  {
   "cell_type": "code",
   "execution_count": null,
   "id": "d7f6cc71",
   "metadata": {},
   "outputs": [],
   "source": [
    "#Step 6\n",
    "clients = [{},{},{},{},{},{},{},{},{},{},{},{}]\n",
    "attributes = []\n",
    "#Boucle pour etablier les attributes\n",
    "for i in range(1, 5):\n",
    "    attributes.append(input(' Veuillez saisir l\\'attribut ' +str(i)+ ' : '))\n",
    "\n",
    "#Boucle pour recupere les attributes du client\n",
    "for i in range(13):\n",
    "    for x in attributes:\n",
    "        clients[i][x] = (input('Quel est votre '+x+' ?: '))\n",
    "print(clients)\n",
    "\n",
    "#Bloc pour enleve 500 euros du client 4\n",
    "print(clients[3])\n",
    "clients[3]['Solde'] -= 500\n",
    "print(clients[3])\n",
    "\n",
    "\n",
    "#bloc pour afficher le Solde total\n",
    "total = 0\n",
    "for c in clients:\n",
    "    total += int(c['Solde'])\n",
    "\n",
    "print(total)"
   ]
  },
  {
   "cell_type": "markdown",
   "id": "f04bcac8",
   "metadata": {},
   "source": [
    "### Step 7\n",
    "Écrivez un bloc pour compter le nombre de clients féminins et masculin"
   ]
  },
  {
   "cell_type": "code",
   "execution_count": null,
   "id": "02157b4d",
   "metadata": {},
   "outputs": [],
   "source": [
    "#Step 7\n",
    "clients = [{},{},{},{},{},{},{},{},{},{},{},{}]\n",
    "attributes = []\n",
    "#Boucle pour etablier les attributes\n",
    "for i in range(1, 5):\n",
    "    attributes.append(input(' Veuillez saisir l\\'attribut ' +str(i)+ ' : '))\n",
    "\n",
    "#Boucle pour recupere les attributes du client\n",
    "for i in range(13):\n",
    "    for x in attributes:\n",
    "        clients[i][x] = (input('Quel est votre '+x+' ?: '))\n",
    "print(clients)\n",
    "\n",
    "#Bloc pour enleve 500 euros du client 4\n",
    "print(clients[3])\n",
    "clients[3]['Solde'] -= 500\n",
    "print(clients[3])\n",
    "\n",
    "\n",
    "#bloc pour afficher le Solde total\n",
    "total = 0\n",
    "for c in clients:\n",
    "    total += int(c['Solde'])\n",
    "\n",
    "print(total)\n",
    "\n",
    "#n bloc pour compter le nombre de clients féminins et masculins\n",
    "hommes = 0\n",
    "femmes = 0\n",
    "for c in clients:\n",
    "    if c['Sexe'] == 'M': hommes += 1\n",
    "    elif c['Sexe'] == 'F': femmes += 1\n",
    "    \n",
    "print('il y a '+str(femmes)+' femmes et 'str(hommes)+' hommes')"
   ]
  },
  {
   "cell_type": "markdown",
   "id": "990f6824",
   "metadata": {},
   "source": [
    "### Step 8\n",
    "Un nouveau client qui arrive KURDY Bassam avec un solde de 2000 euros, il faut l’ajouter dans la base \n",
    "de données avec ou sans méthod"
   ]
  },
  {
   "cell_type": "code",
   "execution_count": null,
   "id": "7c54e66b",
   "metadata": {},
   "outputs": [],
   "source": [
    "#Step 7\n",
    "clients = [{},{},{},{},{},{},{},{},{},{},{},{}]\n",
    "attributes = []\n",
    "#Boucle pour etablier les attributes\n",
    "for i in range(1, 5):\n",
    "    attributes.append(input(' Veuillez saisir l\\'attribut ' +str(i)+ ' : '))\n",
    "\n",
    "#Boucle pour recupere les attributes du client\n",
    "for i in range(13):\n",
    "    for x in attributes:\n",
    "        clients[i][x] = (input('Quel est votre '+x+' ?: '))\n",
    "print(clients)\n",
    "\n",
    "#Bloc pour enleve 500 euros du client 4\n",
    "print(clients[3])\n",
    "clients[3]['Solde'] = int(clients[3]['Solde']) - 500\n",
    "print(clients[3])\n",
    "\n",
    "\n",
    "#bloc pour afficher le Solde total\n",
    "total = 0\n",
    "for c in clients:\n",
    "    total += int(c['Solde'])\n",
    "\n",
    "print(total)\n",
    "\n",
    "# bloc pour compter le nombre de clients féminins et masculins\n",
    "hommes = 0\n",
    "femmes = 0\n",
    "for c in clients:\n",
    "    if c['Sexe'] == 'M': hommes += 1\n",
    "    elif c['Sexe'] == 'F': femmes += 1\n",
    "    \n",
    "print('il y a '+str(femmes)+' femmes et 'str(hommes)+' hommes')\n",
    "\n",
    "\n",
    "# bloc pour rajouter KURDY Bassam, ou juste un autre client, aux clients\n",
    "\n",
    "for x in attributes:    \n",
    "    newClient = {}\n",
    "    newClient[x] = (input('Quel est le '+x+' ?: '))\n",
    "clients.append(newClient)"
   ]
  },
  {
   "cell_type": "code",
   "execution_count": null,
   "id": "6a6147ff",
   "metadata": {
    "scrolled": true
   },
   "outputs": [],
   "source": [
    "### Extra Etape"
   ]
  },
  {
   "cell_type": "code",
   "execution_count": null,
   "id": "6cd15735",
   "metadata": {},
   "outputs": [],
   "source": [
    "\n",
    "def defineAttributes():\n",
    "    '''fonction pour etablier les attributes'''\n",
    "    attributes = []\n",
    "    for i in range(1, 5):\n",
    "        attributes.append(input(' Veuillez saisir l\\'attribut ' +str(i)+ ' : '))\n",
    "        \n",
    "    return attributes\n",
    "\n",
    "def addClients(attributes, count):   \n",
    "    '''Fonction pour ajouter  des clients'''\n",
    "    for i in range(count):\n",
    "        for attribut in attributes:\n",
    "            clients[i][attribut] = input('Quel est le '+attribut+' ?: ')\n",
    "    print(clients)\n",
    "    \n",
    "def removeSolde4():\n",
    "    sum = input('Combien souhaiteriez-vous enleve ?: ')\n",
    "    clients[3]['Sode'] = int(clients[3]['Sode']) - int(sum)\n",
    "    \n",
    "    \n",
    "def soldeTotal():\n",
    "    total = 0\n",
    "    for c in clients:\n",
    "        total += int(c['Solde'])\n",
    "\n",
    "    print(total)\n",
    "\n",
    "def sexeTotal():\n",
    "    hommes = 0\n",
    "    femmes = 0\n",
    "    for c in clients:\n",
    "        if c['Sexe'] == 'M': hommes += 1\n",
    "        elif c['Sexe'] == 'F': femmes += 1\n",
    "        \n",
    "    print('il y a '+str(femmes)+' femmes et '+str(hommes)+' hommes')\n",
    "\n",
    "def addNewClients(attributes):\n",
    "    newClient = {}\n",
    "    for x in attributes:    \n",
    "        newClient[x] = (input('Quel est le '+x+' ?: '))\n",
    "    clients.append(newClient)\n",
    "    \n",
    "def main():\n",
    "    count = int(input('Combien souhaiteriez-vous en ajouter ?: '))\n",
    "    global clients \n",
    "    clients = [{} for i in range(count)]\n",
    "    attributes = defineAttributes()\n",
    "    addClients(attributes, count)\n",
    "    removeSolde4()\n",
    "    soldeTotal()\n",
    "    sexeTotal()\n",
    "    addNewClients(attributes)\n",
    "    print(clients)\n",
    "\n",
    "main()\n"
   ]
  },
  {
   "cell_type": "markdown",
   "id": "740a417b",
   "metadata": {},
   "source": [
    "### Refactoring 2"
   ]
  },
  {
   "cell_type": "code",
   "execution_count": null,
   "id": "a81962c0",
   "metadata": {},
   "outputs": [],
   "source": [
    "def counting():\n",
    "    '''Fonction pour demande combien l'utilisateur veux ajouter'''\n",
    "    return int(input('Combien souhaiteriez-vous en ajouter ?: '))\n",
    "\n",
    "def defineAttributes():\n",
    "    '''fonction pour etablier les attributes'''\n",
    "    print('Saisir des Attributes')\n",
    "    count = counting()\n",
    "    attributes = []\n",
    "    for i in range(1, count+1):\n",
    "        attributes.append(input(' Veuillez saisir l\\'attribut ' +str(i)+ ' : '))\n",
    "        \n",
    "    return attributes\n",
    "\n",
    "def addClients(attributes):   \n",
    "    '''Fonction pour ajouter  des clients'''\n",
    "    print('Ajouter des Clients')\n",
    "    count = counting()\n",
    "    #premier boucle pour le nombre de client demande\n",
    "    for i in range(count):\n",
    "        newClient = {}\n",
    "        #deuxieme boucle pour saiaisr les attributes de chaque client\n",
    "        for attribut in attributes:\n",
    "            newClient[attribut] = input('Quel est le '+attribut+' de nouveau client '+ str(i+1) +' ?: ')\n",
    "        print(newClient)\n",
    "        clients.append(newClient)\n",
    "    \n",
    "def removeSolde():\n",
    "    '''Fonction qui enleve un sum depuis le Solde de un client'''\n",
    "    #quelle client enleve un sum\n",
    "    x = int(input('De quelle compte voulais vous enleve de 1 à '+ str(len(clients))+' ?: ')) - 1\n",
    "    #quelle sum a enleve\n",
    "    amount = input('Combien souhaiteriez-vous enleve ?: ')\n",
    "    clients[x]['Solde'] = int(clients[x]['Solde']) - int(amount)\n",
    "    \n",
    "    \n",
    "def soldeTotal():\n",
    "    '''Fonction pour affiche le sum total de tout les Soldes de tout les clients'''\n",
    "    total = sum(int(client['Solde']) for client in clients)\n",
    "    print(f\"Le solde total de tous les clients est de : {total}\")\n",
    "\n",
    "def sexeTotal():\n",
    "    '''Fonction pour affiche le total de hommes et femmes dans le clients'''\n",
    "    hommes = sum(1 for client in clients if client['Sexe'] == 'M')\n",
    "    femmes = sum(1 for client in clients if client['Sexe'] == 'F')\n",
    "    print(f\"Il y a {femmes} femmes et {hommes} hommes parmi les clients\")\n",
    "\n",
    "def main():\n",
    "    \n",
    "    #etablie clients comme variable global\n",
    "    global clients \n",
    "    clients = []\n",
    "    \n",
    "    attributes = defineAttributes()\n",
    "    \n",
    "    addClients(attributes)\n",
    "    removeSolde()\n",
    "    soldeTotal()\n",
    "    sexeTotal()\n",
    "    addClients(attributes)\n",
    "    print(clients)\n",
    "\n",
    "main()\n",
    " "
   ]
  },
  {
   "cell_type": "markdown",
   "id": "002a7de3",
   "metadata": {},
   "source": [
    "### Bonus factorielles"
   ]
  },
  {
   "cell_type": "code",
   "execution_count": null,
   "id": "49bf8b3d",
   "metadata": {
    "scrolled": true
   },
   "outputs": [],
   "source": [
    "def factorielle(n):\n",
    "    return 1 if n == 0  else n * factorielle(n-1)\n",
    "nombre = 1\n",
    "resultat = factorielle(nombre)\n",
    "\n",
    "print(f\"La factorielle de {nombre} est {resultat}\")"
   ]
  },
  {
   "cell_type": "code",
   "execution_count": null,
   "id": "94301327",
   "metadata": {},
   "outputs": [],
   "source": [
    "%history\n"
   ]
  },
  {
   "cell_type": "code",
   "execution_count": null,
   "id": "676bb933",
   "metadata": {},
   "outputs": [],
   "source": [
    "%whos"
   ]
  },
  {
   "cell_type": "code",
   "execution_count": null,
   "id": "677e2b54",
   "metadata": {},
   "outputs": [],
   "source": []
  }
 ],
 "metadata": {
  "kernelspec": {
   "display_name": "Python 3 (ipykernel)",
   "language": "python",
   "name": "python3"
  },
  "language_info": {
   "codemirror_mode": {
    "name": "ipython",
    "version": 3
   },
   "file_extension": ".py",
   "mimetype": "text/x-python",
   "name": "python",
   "nbconvert_exporter": "python",
   "pygments_lexer": "ipython3",
   "version": "3.11.5"
  }
 },
 "nbformat": 4,
 "nbformat_minor": 5
}
